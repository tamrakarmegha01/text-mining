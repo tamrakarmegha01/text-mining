{
 "cells": [
  {
   "cell_type": "code",
   "execution_count": null,
   "id": "73cc7e43",
   "metadata": {},
   "outputs": [
    {
     "name": "stdout",
     "output_type": "stream",
     "text": [
      "showing info https://raw.githubusercontent.com/nltk/nltk_data/gh-pages/index.xml\n"
     ]
    }
   ],
   "source": [
    "import nltk\n",
    "nltk.download()"
   ]
  },
  {
   "cell_type": "code",
   "execution_count": null,
   "id": "6cdcd15b",
   "metadata": {},
   "outputs": [],
   "source": [
    "import nltk\n",
    "from nltk.corpus import stopwords\n",
    "from nltk import word_tokenize\n",
    "from nltk.stem import PorterStemmer\n",
    "from collections import Counter\n",
    "\n",
    "file1 = open(\"paragraph.txt\", \"r\")\n",
    "file2 = file1.read()\n",
    "text=file2.lower()\n",
    "\n",
    "# Tokenization\n",
    "token = word_tokenize(text)\n",
    "\n",
    "# Stop Words\n",
    "filtered_sentence = []\n",
    "all_stopwords = stopwords.words(\"English\")\n",
    "sw_list = [\",\", \".\", \"?\"]\n",
    "all_stopwords.extend(sw_list)\n",
    "for x in token:\n",
    "    if x not in all_stopwords:\n",
    "        filtered_sentence.append(x)\n",
    "print(\"After removing stopwords:\\n\", filtered_sentence, \"\\n\")\n",
    "\n",
    "# Stemming\n",
    "pst = PorterStemmer()\n",
    "stemming_list = []                                                                                                                                                                  \n",
    "for words in filtered_sentence:\n",
    "    stemming_list.append(pst.stem(words))\n",
    "print(\"After Stemming:\\n\", stemming_list, \"\\n\")\n",
    "\n",
    "# Part of Speech tagging (POS)\n",
    "taggedlist = []\n",
    "for i in stemming_list:\n",
    "    tag = nltk.pos_tag([i])\n",
    "    taggedlist.append(tag)\n",
    "\n",
    "output = []\n",
    "\n",
    "# Converting Nested list to Flat list\n",
    "def reemove_nesting(taggedlist):\n",
    "    for i in taggedlist:\n",
    "        if type(i) == list:\n",
    "            reemove_nesting(i)\n",
    "        else:\n",
    "            output.append(i)\n",
    "\n",
    "\n",
    "reemove_nesting(taggedlist)\n",
    "print(\"After identifying grammar:\\n\", output, \"\\n\")\n",
    "\n",
    "# Counting POS\n",
    "print(\"Final count:\\n\")\n",
    "finalarray = []\n",
    "for item in output:\n",
    "    finalarray.append(item[1])\n",
    "\n",
    "counts = Counter(tag for tag in finalarray)\n",
    "visited = []\n",
    "for a in finalarray:\n",
    "    if a not in visited:\n",
    "        visited.append(a)\n",
    "        print(\"{0}:{1}\".format(a, finalarray.count(a)))\n"
   ]
  },
  {
   "cell_type": "code",
   "execution_count": 2,
   "id": "7f39f475",
   "metadata": {},
   "outputs": [
    {
     "name": "stdout",
     "output_type": "stream",
     "text": [
      "Collecting nltk\n",
      "  Downloading nltk-3.6.2-py3-none-any.whl (1.5 MB)\n",
      "Collecting tqdm\n",
      "  Downloading tqdm-4.61.2-py2.py3-none-any.whl (76 kB)\n",
      "Collecting click\n",
      "  Downloading click-8.0.1-py3-none-any.whl (97 kB)\n",
      "Collecting regex\n",
      "  Downloading regex-2021.7.6-cp39-cp39-win_amd64.whl (270 kB)\n",
      "Collecting joblib\n",
      "  Downloading joblib-1.0.1-py3-none-any.whl (303 kB)\n",
      "Requirement already satisfied: colorama in c:\\users\\megha\\appdata\\local\\programs\\python\\python39\\lib\\site-packages (from click->nltk) (0.4.4)\n",
      "Installing collected packages: tqdm, regex, joblib, click, nltk\n",
      "Successfully installed click-8.0.1 joblib-1.0.1 nltk-3.6.2 regex-2021.7.6 tqdm-4.61.2\n"
     ]
    }
   ],
   "source": [
    "!pip install nltk\n"
   ]
  },
  {
   "cell_type": "code",
   "execution_count": null,
   "id": "67f1377b",
   "metadata": {},
   "outputs": [],
   "source": []
  }
 ],
 "metadata": {
  "kernelspec": {
   "display_name": "Python 3 (ipykernel)",
   "language": "python",
   "name": "python3"
  },
  "language_info": {
   "codemirror_mode": {
    "name": "ipython",
    "version": 3
   },
   "file_extension": ".py",
   "mimetype": "text/x-python",
   "name": "python",
   "nbconvert_exporter": "python",
   "pygments_lexer": "ipython3",
   "version": "3.9.6"
  }
 },
 "nbformat": 4,
 "nbformat_minor": 5
}
